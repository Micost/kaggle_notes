{
 "cells": [
  {
   "cell_type": "markdown",
   "id": "456260e1",
   "metadata": {
    "papermill": {
     "duration": 0.002524,
     "end_time": "2024-09-26T15:08:55.693711",
     "exception": false,
     "start_time": "2024-09-26T15:08:55.691187",
     "status": "completed"
    },
    "tags": []
   },
   "source": [
    "# Introduction\n",
    "\n",
    "This note compile llama.cpp with GPU. And will also download wiki text which will be used for perplexity. The output of this node can be used as input of other notes"
   ]
  },
  {
   "cell_type": "markdown",
   "id": "7899be5c",
   "metadata": {
    "papermill": {
     "duration": 0.001852,
     "end_time": "2024-09-26T15:08:55.697753",
     "exception": false,
     "start_time": "2024-09-26T15:08:55.695901",
     "status": "completed"
    },
    "tags": []
   },
   "source": [
    "# Compile llama.cpp"
   ]
  },
  {
   "cell_type": "code",
   "execution_count": 1,
   "id": "9c4fffd0",
   "metadata": {
    "execution": {
     "iopub.execute_input": "2024-09-26T15:08:55.703393Z",
     "iopub.status.busy": "2024-09-26T15:08:55.702624Z",
     "iopub.status.idle": "2024-09-26T15:30:32.568653Z",
     "shell.execute_reply": "2024-09-26T15:30:32.567361Z"
    },
    "papermill": {
     "duration": 1296.871659,
     "end_time": "2024-09-26T15:30:32.571335",
     "exception": false,
     "start_time": "2024-09-26T15:08:55.699676",
     "status": "completed"
    },
    "tags": []
   },
   "outputs": [
    {
     "name": "stdout",
     "output_type": "stream",
     "text": [
      "Cloning into 'llama.cpp'...\r\n",
      "remote: Enumerating objects: 34812, done.\u001b[K\r\n",
      "remote: Counting objects: 100% (6520/6520), done.\u001b[K\r\n",
      "remote: Compressing objects: 100% (365/365), done.\u001b[K\r\n",
      "remote: Total 34812 (delta 6322), reused 6222 (delta 6154), pack-reused 28292 (from 1)\u001b[K\r\n",
      "Receiving objects: 100% (34812/34812), 56.56 MiB | 27.46 MiB/s, done.\r\n",
      "Resolving deltas: 100% (25259/25259), done.\r\n",
      "/kaggle/working/llama.cpp\n"
     ]
    }
   ],
   "source": [
    "!git clone https://github.com/ggerganov/llama.cpp\n",
    "%cd llama.cpp\n",
    "# !export GGML_CUDA=1 \n",
    "!cp -r /usr/local/cuda-12.3/targets /usr/local/nvidia/ \n",
    "!make GGML_CUDA=1 CUDA_PATH=/usr/local/nvidia  > make.log 2>&1"
   ]
  },
  {
   "cell_type": "code",
   "execution_count": 2,
   "id": "3f6970a5",
   "metadata": {
    "execution": {
     "iopub.execute_input": "2024-09-26T15:30:32.589735Z",
     "iopub.status.busy": "2024-09-26T15:30:32.589375Z",
     "iopub.status.idle": "2024-09-26T15:32:11.961341Z",
     "shell.execute_reply": "2024-09-26T15:32:11.960401Z"
    },
    "papermill": {
     "duration": 99.383336,
     "end_time": "2024-09-26T15:32:11.963389",
     "exception": false,
     "start_time": "2024-09-26T15:30:32.580053",
     "status": "completed"
    },
    "tags": []
   },
   "outputs": [
    {
     "name": "stdout",
     "output_type": "stream",
     "text": [
      "NOTICE: The 'server' binary is deprecated. Please use 'llama-server' instead.\r\n",
      "\u001b[0mSuccessfully installed MarkupSafe-2.1.5 certifi-2024.8.30 charset-normalizer-3.3.2 filelock-3.16.1 fsspec-2024.9.0 gguf-0.10.0 huggingface-hub-0.25.1 idna-3.10 jinja2-3.1.4 mpmath-1.3.0 networkx-3.3 numpy-1.26.4 packaging-24.1 protobuf-4.25.3 pyyaml-6.0.2 regex-2024.9.11 requests-2.32.3 safetensors-0.4.5 sentencepiece-0.2.0 sympy-1.13.3 tokenizers-0.20.0 torch-2.2.2+cpu tqdm-4.66.5 transformers-4.45.0 typing-extensions-4.12.2 urllib3-2.2.1\r\n"
     ]
    }
   ],
   "source": [
    "!tail -1 make.log\n",
    "!pip install --force-reinstall -r requirements.txt > pip_install.log 2>&1\n",
    "!tail -1 pip_install.log"
   ]
  },
  {
   "cell_type": "markdown",
   "id": "ddfb105c",
   "metadata": {
    "papermill": {
     "duration": 0.008132,
     "end_time": "2024-09-26T15:32:11.980040",
     "exception": false,
     "start_time": "2024-09-26T15:32:11.971908",
     "status": "completed"
    },
    "tags": []
   },
   "source": [
    "# Download wiki text"
   ]
  },
  {
   "cell_type": "code",
   "execution_count": 3,
   "id": "391b9ef2",
   "metadata": {
    "execution": {
     "iopub.execute_input": "2024-09-26T15:32:11.999728Z",
     "iopub.status.busy": "2024-09-26T15:32:11.999385Z",
     "iopub.status.idle": "2024-09-26T15:32:57.177095Z",
     "shell.execute_reply": "2024-09-26T15:32:57.176200Z"
    },
    "papermill": {
     "duration": 45.190412,
     "end_time": "2024-09-26T15:32:57.179124",
     "exception": false,
     "start_time": "2024-09-26T15:32:11.988712",
     "status": "completed"
    },
    "tags": []
   },
   "outputs": [
    {
     "name": "stdout",
     "output_type": "stream",
     "text": [
      "--2024-09-26 15:32:12--  https://object.pouta.csc.fi/OPUS-Wikipedia/v1.0/mono/en.txt.gz\r\n",
      "Resolving object.pouta.csc.fi (object.pouta.csc.fi)... 86.50.254.19, 86.50.254.18\r\n",
      "Connecting to object.pouta.csc.fi (object.pouta.csc.fi)|86.50.254.19|:443... connected.\r\n",
      "HTTP request sent, awaiting response... 200 OK\r\n",
      "Length: 532958396 (508M) [application/gzip]\r\n",
      "Saving to: 'en.txt.gz'\r\n",
      "\r\n",
      "en.txt.gz           100%[===================>] 508.27M  21.3MB/s    in 27s     \r\n",
      "\r\n",
      "2024-09-26 15:32:40 (19.2 MB/s) - 'en.txt.gz' saved [532958396/532958396]\r\n",
      "\r\n",
      "--2024-09-26 15:32:56--  https://huggingface.co/datasets/ggml-org/ci/resolve/main/wikitext-2-raw-v1.zip\r\n",
      "Resolving huggingface.co (huggingface.co)... 3.165.160.11, 3.165.160.61, 3.165.160.59, ...\r\n",
      "Connecting to huggingface.co (huggingface.co)|3.165.160.11|:443... connected.\r\n",
      "HTTP request sent, awaiting response... 302 Found\r\n",
      "Location: https://cdn-lfs-us-1.hf.co/repos/c6/78/c67802fcd48fa6f6a86773410b21cc6db1c5c546b20683b6c30b95f327a66922/ef7edb566e3e2b2d31b29c1fdb0c89a4cc683597484c3dc2517919c615435a11?response-content-disposition=inline%3B+filename*%3DUTF-8%27%27wikitext-2-raw-v1.zip%3B+filename%3D%22wikitext-2-raw-v1.zip%22%3B&response-content-type=application%2Fzip&Expires=1727623976&Policy=eyJTdGF0ZW1lbnQiOlt7IkNvbmRpdGlvbiI6eyJEYXRlTGVzc1RoYW4iOnsiQVdTOkVwb2NoVGltZSI6MTcyNzYyMzk3Nn19LCJSZXNvdXJjZSI6Imh0dHBzOi8vY2RuLWxmcy11cy0xLmhmLmNvL3JlcG9zL2M2Lzc4L2M2NzgwMmZjZDQ4ZmE2ZjZhODY3NzM0MTBiMjFjYzZkYjFjNWM1NDZiMjA2ODNiNmMzMGI5NWYzMjdhNjY5MjIvZWY3ZWRiNTY2ZTNlMmIyZDMxYjI5YzFmZGIwYzg5YTRjYzY4MzU5NzQ4NGMzZGMyNTE3OTE5YzYxNTQzNWExMT9yZXNwb25zZS1jb250ZW50LWRpc3Bvc2l0aW9uPSomcmVzcG9uc2UtY29udGVudC10eXBlPSoifV19&Signature=g2JsjVY%7EhwxxTm4WgfvnugSmgdlIgAD6AHNFbiEdd8mdQCFhV78IA3zJQHQNr3jvO4mv-H%7EYTydRXdu0Rx9VHw8jp68B3UHPV2sqF%7EUyhOukSR%7E5wTzLEne1j0AKKYDL90Ar1Dd-MXmHcPATmjjGOwjM-EZGUCXEAohWarzT-0sogt%7ELQHgefTs6%7EewBTPFc88XuJC6daxH-bgH-HyMMXmKleOit62ny37uXnwu1hsUwLIH5jawUWvtByAGKKMcZssDR1Wm1lzU4rQr7IFRh4wYgr%7EW573gdJueYzefLV72PPQmtOYNRrjYjmBObOJMk2tZRKBz9xxaWXEWQ5QsFxg__&Key-Pair-Id=K24J24Z295AEI9 [following]\r\n",
      "--2024-09-26 15:32:56--  https://cdn-lfs-us-1.hf.co/repos/c6/78/c67802fcd48fa6f6a86773410b21cc6db1c5c546b20683b6c30b95f327a66922/ef7edb566e3e2b2d31b29c1fdb0c89a4cc683597484c3dc2517919c615435a11?response-content-disposition=inline%3B+filename*%3DUTF-8''wikitext-2-raw-v1.zip%3B+filename%3D%22wikitext-2-raw-v1.zip%22%3B&response-content-type=application%2Fzip&Expires=1727623976&Policy=eyJTdGF0ZW1lbnQiOlt7IkNvbmRpdGlvbiI6eyJEYXRlTGVzc1RoYW4iOnsiQVdTOkVwb2NoVGltZSI6MTcyNzYyMzk3Nn19LCJSZXNvdXJjZSI6Imh0dHBzOi8vY2RuLWxmcy11cy0xLmhmLmNvL3JlcG9zL2M2Lzc4L2M2NzgwMmZjZDQ4ZmE2ZjZhODY3NzM0MTBiMjFjYzZkYjFjNWM1NDZiMjA2ODNiNmMzMGI5NWYzMjdhNjY5MjIvZWY3ZWRiNTY2ZTNlMmIyZDMxYjI5YzFmZGIwYzg5YTRjYzY4MzU5NzQ4NGMzZGMyNTE3OTE5YzYxNTQzNWExMT9yZXNwb25zZS1jb250ZW50LWRpc3Bvc2l0aW9uPSomcmVzcG9uc2UtY29udGVudC10eXBlPSoifV19&Signature=g2JsjVY~hwxxTm4WgfvnugSmgdlIgAD6AHNFbiEdd8mdQCFhV78IA3zJQHQNr3jvO4mv-H~YTydRXdu0Rx9VHw8jp68B3UHPV2sqF~UyhOukSR~5wTzLEne1j0AKKYDL90Ar1Dd-MXmHcPATmjjGOwjM-EZGUCXEAohWarzT-0sogt~LQHgefTs6~ewBTPFc88XuJC6daxH-bgH-HyMMXmKleOit62ny37uXnwu1hsUwLIH5jawUWvtByAGKKMcZssDR1Wm1lzU4rQr7IFRh4wYgr~W573gdJueYzefLV72PPQmtOYNRrjYjmBObOJMk2tZRKBz9xxaWXEWQ5QsFxg__&Key-Pair-Id=K24J24Z295AEI9\r\n",
      "Resolving cdn-lfs-us-1.hf.co (cdn-lfs-us-1.hf.co)... 3.165.160.77, 3.165.160.20, 3.165.160.38, ...\r\n",
      "Connecting to cdn-lfs-us-1.hf.co (cdn-lfs-us-1.hf.co)|3.165.160.77|:443... connected.\r\n",
      "HTTP request sent, awaiting response... 200 OK\r\n",
      "Length: 4721645 (4.5M) [application/zip]\r\n",
      "Saving to: 'wikitext-2-raw-v1.zip'\r\n",
      "\r\n",
      "wikitext-2-raw-v1.z 100%[===================>]   4.50M  14.5MB/s    in 0.3s    \r\n",
      "\r\n",
      "2024-09-26 15:32:56 (14.5 MB/s) - 'wikitext-2-raw-v1.zip' saved [4721645/4721645]\r\n",
      "\r\n",
      "Archive:  wikitext-2-raw-v1.zip\r\n",
      "   creating: wikitext-2-raw/\r\n",
      "  inflating: wikitext-2-raw/wiki.test.raw  \r\n",
      "  inflating: wikitext-2-raw/wiki.valid.raw  \r\n",
      "  inflating: wikitext-2-raw/wiki.train.raw  \r\n",
      "Usage:\r\n",
      "\r\n",
      "  ./llama-perplexity -m model.gguf -f wikitext-2-raw/wiki.test.raw [other params]\r\n",
      "\r\n"
     ]
    }
   ],
   "source": [
    "!wget https://object.pouta.csc.fi/OPUS-Wikipedia/v1.0/mono/en.txt.gz\n",
    "!gunzip en.txt.gz\n",
    "!head -n 10000 en.txt > en-h10000.txt\n",
    "!sh /kaggle/working/llama.cpp/scripts/get-wikitext-2.sh"
   ]
  }
 ],
 "metadata": {
  "kaggle": {
   "accelerator": "gpu",
   "dataSources": [],
   "isGpuEnabled": true,
   "isInternetEnabled": true,
   "language": "python",
   "sourceType": "notebook"
  },
  "kernelspec": {
   "display_name": "Python 3",
   "language": "python",
   "name": "python3"
  },
  "language_info": {
   "codemirror_mode": {
    "name": "ipython",
    "version": 3
   },
   "file_extension": ".py",
   "mimetype": "text/x-python",
   "name": "python",
   "nbconvert_exporter": "python",
   "pygments_lexer": "ipython3",
   "version": "3.10.14"
  },
  "papermill": {
   "default_parameters": {},
   "duration": 1444.535206,
   "end_time": "2024-09-26T15:32:57.513491",
   "environment_variables": {},
   "exception": null,
   "input_path": "__notebook__.ipynb",
   "output_path": "__notebook__.ipynb",
   "parameters": {},
   "start_time": "2024-09-26T15:08:52.978285",
   "version": "2.6.0"
  }
 },
 "nbformat": 4,
 "nbformat_minor": 5
}
